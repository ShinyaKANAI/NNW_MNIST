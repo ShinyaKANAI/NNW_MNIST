{
 "cells": [
  {
   "cell_type": "markdown",
   "metadata": {},
   "source": [
    "# ニューラルネットワークを使った手書き文字認識：初級編\n",
    "昨今世間を騒がせているバズワードとしてのAIの一つの正体である「**ディープラーニング(深層学習)**」。  \n",
    "今回はその基本となる考え方である「**ニューラルネットワーク**」について、実装して行きます。  \n",
    "題材は画像認識の分野でのHello worldと言われている「**MNIST**」という手書き数字認識問題です。"
   ]
  },
  {
   "cell_type": "markdown",
   "metadata": {},
   "source": [
    "## モジュールのインポート"
   ]
  },
  {
   "cell_type": "markdown",
   "metadata": {},
   "source": [
    "配列形式のデータを扱うために[numpy](http://www.numpy.org/ \"Numpy公式Document\")、  \n",
    "データのプロットのために[matplotlib](https://matplotlib.org/ \"matplotlib公式Document\")、  \n",
    "モデルの性能評価のために[scikit-learn(sklearn)](https://scikit-learn.org/stable/ \"Scikit-learn公式Document\")を、  \n",
    "それぞれインポートします。"
   ]
  },
  {
   "cell_type": "code",
   "execution_count": 1,
   "metadata": {},
   "outputs": [],
   "source": [
    "import numpy as np\n",
    "import matplotlib.pyplot as plt\n",
    "%matplotlib inline\n",
    "from sklearn.metrics import confusion_matrix, accuracy_score"
   ]
  },
  {
   "cell_type": "markdown",
   "metadata": {},
   "source": [
    "メインのニューラルネットワークモデルの構築のために、  \n",
    "[keras](https://keras.io/ja/ \"Keras公式Document\")から必要なものをインポートします。"
   ]
  },
  {
   "cell_type": "code",
   "execution_count": 2,
   "metadata": {},
   "outputs": [
    {
     "name": "stderr",
     "output_type": "stream",
     "text": [
      "Using TensorFlow backend.\n"
     ]
    }
   ],
   "source": [
    "# MNISTデータセット\n",
    "from keras.datasets import mnist\n",
    "# シーケンシャルモデル\n",
    "from keras.models import Sequential\n",
    "# それぞれ平坦化層、全結合層、活性化層\n",
    "from keras.layers import Flatten, Dense, Activation\n",
    "# numpyアレイの便利な取り扱い\n",
    "from keras.utils import np_utils\n",
    "# 過学習の検出\n",
    "from keras.callbacks import EarlyStopping"
   ]
  },
  {
   "cell_type": "markdown",
   "metadata": {},
   "source": [
    "## データセット\n",
    "MNISTデータセットをダウンロードし、その中身を確認します。  \n",
    "訓練データが60000サンプル、評価データが10000サンプルあり、  \n",
    "画像は28x28pixelの256階調のグレースケールです。"
   ]
  },
  {
   "cell_type": "code",
   "execution_count": 3,
   "metadata": {},
   "outputs": [],
   "source": [
    "# MNISTのダウンロード\n",
    "(x_train, y_train), (x_test, y_test) = mnist.load_data()"
   ]
  },
  {
   "cell_type": "code",
   "execution_count": 4,
   "metadata": {},
   "outputs": [
    {
     "name": "stdout",
     "output_type": "stream",
     "text": [
      "x_train : (60000, 28, 28)\n",
      "y_train : (60000,)\n",
      "x_test  : (10000, 28, 28)\n",
      "y_test  : (10000,)\n"
     ]
    }
   ],
   "source": [
    "# 訓練データ、評価データの入力データ、教師データの構造\n",
    "print('x_train :', x_train.shape)\n",
    "print('y_train :', y_train.shape)\n",
    "print('x_test  :', x_test.shape)\n",
    "print('y_test  :', y_test.shape)"
   ]
  },
  {
   "cell_type": "code",
   "execution_count": 5,
   "metadata": {},
   "outputs": [],
   "source": [
    "def show_samples(images):\n",
    "    \"\"\"\n",
    "    複数の画像データを表示する関数\n",
    "    * 入力\n",
    "        samples (numpy.ndarray) : 入力画像たち\n",
    "    * 出力：\n",
    "        None\n",
    "    \"\"\"\n",
    "    num_samples = images.shape[0]\n",
    "    # サンプル画像の枚数分のプロット領域を作り、位置を調整\n",
    "    fig, axs = plt.subplots(1,num_samples, figsize=(18,2))\n",
    "    fig.subplots_adjust(wspace=.05)\n",
    "    axs = axs.ravel()\n",
    "    for i in range(num_samples):\n",
    "        # サンプル画像をプロット領域に描画\n",
    "        axs[i].imshow(images[i], cmap='gray')\n",
    "        # 縦横の軸を消去\n",
    "        axs[i].set_xticks([])\n",
    "        axs[i].set_yticks([])\n",
    "    # プロットを表示\n",
    "    plt.show()"
   ]
  },
  {
   "cell_type": "markdown",
   "metadata": {},
   "source": [
    "教師データと訓練データの一例を表示します。"
   ]
  },
  {
   "cell_type": "code",
   "execution_count": 6,
   "metadata": {},
   "outputs": [
    {
     "name": "stdout",
     "output_type": "stream",
     "text": [
      "[7 2 1 0 4 1 4 9 5 9]\n"
     ]
    },
    {
     "data": {
      "image/png": "[encoded data removed]",
      "text/plain": [
       "<matplotlib.figure.Figure at 0x1207b4588>"
      ]
     },
     "metadata": {},
     "output_type": "display_data"
    }
   ],
   "source": [
    "# はじめの10サンプル分を選択\n",
    "indexes = np.arange(0,10)\n",
    "# 以下のように、直接番号で指定することも可能\n",
    "# indexes = [0,1,2,3,4,5,6,7,8,9]\n",
    "# 選んだサンプルの教師ラベルを表示\n",
    "print(y_test[indexes])\n",
    "# 選んだサンプルの入力データを表示\n",
    "show_samples(x_test[indexes])"
   ]
  },
  {
   "cell_type": "markdown",
   "metadata": {},
   "source": [
    "## 前処理\n",
    "教師データと入力データの形式を変換します。  \n",
    "教師データは1hotベクトル変換、入力データは正規化を行います。"
   ]
  },
  {
   "cell_type": "code",
   "execution_count": 7,
   "metadata": {},
   "outputs": [
    {
     "name": "stdout",
     "output_type": "stream",
     "text": [
      "y_train_1hot : (60000, 10)\n",
      "y_test_1hot : (10000, 10)\n"
     ]
    }
   ],
   "source": [
    "# np_udilsから教師ラベルを1ホットベクトルに変換\n",
    "y_train_1hot = np_utils.to_categorical(y_train)\n",
    "y_test_1hot = np_utils.to_categorical(y_test)\n",
    "# 変換後のデータの構造を確認\n",
    "print('y_train_1hot :', y_train_1hot.shape)\n",
    "print('y_test_1hot :', y_test_1hot.shape)"
   ]
  },
  {
   "cell_type": "code",
   "execution_count": 8,
   "metadata": {},
   "outputs": [
    {
     "name": "stdout",
     "output_type": "stream",
     "text": [
      "origin 5\n",
      "normed [0. 0. 0. 0. 0. 1. 0. 0. 0. 0.]\n"
     ]
    }
   ],
   "source": [
    "# 1ホットベクトル形式を確認\n",
    "index = 0\n",
    "print('origin', y_train[index])\n",
    "print('normed', y_train_1hot[index])"
   ]
  },
  {
   "cell_type": "code",
   "execution_count": 9,
   "metadata": {},
   "outputs": [],
   "source": [
    "# 入力画像の正規化\n",
    "# x_train_normed = (x_train / 255.).astype(np.float32)\n",
    "# x_test_normed = (x_test / 255.).astype(np.float32)\n",
    "x_train_normed = ((x_train - 127.5) / 127.5).astype(np.float32)\n",
    "x_test_normed = ((x_test - 127.5) / 127.5).astype(np.float32)"
   ]
  },
  {
   "cell_type": "code",
   "execution_count": 10,
   "metadata": {},
   "outputs": [
    {
     "name": "stdout",
     "output_type": "stream",
     "text": [
      "\tmin\tmax\n",
      "origin\t0\t255\n",
      "normed\t-1.0\t1.0\n"
     ]
    }
   ],
   "source": [
    "# 正規化されたデータを確認\n",
    "print('\\tmin\\tmax')\n",
    "print('origin\\t{0}\\t{1}'.format(x_train.min(), x_train.max()))\n",
    "print('normed\\t{0}\\t{1}'.format(x_train_normed.min(), x_train_normed.max()))"
   ]
  },
  {
   "cell_type": "markdown",
   "metadata": {},
   "source": [
    "## 設計\n",
    "データを学習させるニューラルネットワークの構造と、学習方法を設計します。"
   ]
  },
  {
   "cell_type": "code",
   "execution_count": 11,
   "metadata": {},
   "outputs": [],
   "source": [
    "# 入力データの形式と教師データのラベル数を取得\n",
    "input_shape = x_train_normed.shape[1:]\n",
    "num_labels =  y_train_1hot.shape[-1]\n",
    "# 隠れ層のノード数を設定\n",
    "num_hidden = 1024\n",
    "\n",
    "# シーケンシャルモデルのインスタンス化\n",
    "model = Sequential()\n",
    "# 入力データへの平坦化層を追加\n",
    "model.add(Flatten(input_shape =input_shape))\n",
    "# 全結合層を追加\n",
    "model.add(Dense(num_hidden))\n",
    "model.add(Dense(num_labels))\n",
    "# 全結合層へのソフトマックス活性化層を追加\n",
    "model.add(Activation('softmax'))"
   ]
  },
  {
   "cell_type": "code",
   "execution_count": 12,
   "metadata": {},
   "outputs": [
    {
     "name": "stdout",
     "output_type": "stream",
     "text": [
      "_________________________________________________________________\n",
      "Layer (type)                 Output Shape              Param #   \n",
      "=================================================================\n",
      "flatten_1 (Flatten)          (None, 784)               0         \n",
      "_________________________________________________________________\n",
      "dense_1 (Dense)              (None, 1024)              803840    \n",
      "_________________________________________________________________\n",
      "dense_2 (Dense)              (None, 10)                10250     \n",
      "_________________________________________________________________\n",
      "activation_1 (Activation)    (None, 10)                0         \n",
      "=================================================================\n",
      "Total params: 814,090\n",
      "Trainable params: 814,090\n",
      "Non-trainable params: 0\n",
      "_________________________________________________________________\n"
     ]
    }
   ],
   "source": [
    "# モデルの概要を表示\n",
    "model.summary()"
   ]
  },
  {
   "cell_type": "code",
   "execution_count": 13,
   "metadata": {},
   "outputs": [],
   "source": [
    "# モデルの学習アルゴリズムの設定\n",
    "model.compile(\n",
    "    # 学習方法に「SGD」を設定\n",
    "    optimizer='sgd',\n",
    "    # 損失関数に「CrossEntropy」を設定\n",
    "    loss='categorical_crossentropy',\n",
    "    # 学習過程で認識精度を表示\n",
    "    metrics=['accuracy'])"
   ]
  },
  {
   "cell_type": "markdown",
   "metadata": {},
   "source": [
    "## 学習\n",
    "モデルにデータを与えて学習を行います。"
   ]
  },
  {
   "cell_type": "code",
   "execution_count": 14,
   "metadata": {},
   "outputs": [
    {
     "name": "stdout",
     "output_type": "stream",
     "text": [
      "Train on 48000 samples, validate on 12000 samples\n",
      "Epoch 1/10\n",
      "48000/48000 [==============================] - 7s 155us/step - loss: 0.4494 - acc: 0.8644 - val_loss: 0.3290 - val_acc: 0.9067\n",
      "Epoch 2/10\n",
      "48000/48000 [==============================] - 7s 147us/step - loss: 0.3315 - acc: 0.9042 - val_loss: 0.2946 - val_acc: 0.9187\n",
      "Epoch 3/10\n",
      "48000/48000 [==============================] - 7s 150us/step - loss: 0.3132 - acc: 0.9100 - val_loss: 0.3416 - val_acc: 0.8982\n"
     ]
    }
   ],
   "source": [
    "history = model.fit(\n",
    "    # 訓練データを指定\n",
    "    x_train_normed, y_train_1hot, \n",
    "    # ミニバッチ処理のバッチサイズを設定\n",
    "    batch_size=32,\n",
    "    # 学習エポック数を設定\n",
    "    epochs=10,\n",
    "    # 評価データを指定\n",
    "    validation_split=0.2,\n",
    "    # 過学習が始まったら学習を終了\n",
    "    callbacks=[EarlyStopping()]\n",
    ")"
   ]
  },
  {
   "cell_type": "markdown",
   "metadata": {},
   "source": [
    "## 評価\n",
    "学習済みモデルの性能評価を行います。"
   ]
  },
  {
   "cell_type": "code",
   "execution_count": 15,
   "metadata": {},
   "outputs": [],
   "source": [
    "# 学習済みモデルに評価データを入力して予測\n",
    "predictions = model.predict_classes(x_test_normed)"
   ]
  },
  {
   "cell_type": "code",
   "execution_count": 16,
   "metadata": {},
   "outputs": [
    {
     "data": {
      "text/plain": [
       "0.8953"
      ]
     },
     "execution_count": 16,
     "metadata": {},
     "output_type": "execute_result"
    }
   ],
   "source": [
    "# 精度の表示\n",
    "accuracy_score(predictions, y_test)"
   ]
  },
  {
   "cell_type": "code",
   "execution_count": 17,
   "metadata": {},
   "outputs": [
    {
     "data": {
      "text/plain": [
       "array([[ 935,    0,    7,    5,    1,    6,   12,    3,   10,    8],\n",
       "       [   0, 1101,    9,    0,    2,    2,    3,   12,    7,    5],\n",
       "       [   1,    3,  906,   16,    2,    1,    3,   19,    5,    1],\n",
       "       [   1,    2,   12,  808,    2,    6,    0,    6,   24,    6],\n",
       "       [   0,    0,    6,    0,  867,    3,    7,    4,    6,   10],\n",
       "       [  34,   11,   24,  148,   21,  854,   36,   11,  143,   33],\n",
       "       [   7,    4,   20,    2,   19,   11,  895,    0,   14,    1],\n",
       "       [   1,    1,   10,    8,    2,    1,    1,  911,    4,   11],\n",
       "       [   1,   12,   27,   11,    3,    6,    1,    1,  744,    2],\n",
       "       [   0,    1,   11,   12,   63,    2,    0,   61,   17,  932]])"
      ]
     },
     "execution_count": 17,
     "metadata": {},
     "output_type": "execute_result"
    }
   ],
   "source": [
    "# 混同行列の表示\n",
    "confusion_matrix(predictions, y_test)"
   ]
  },
  {
   "cell_type": "code",
   "execution_count": 18,
   "metadata": {},
   "outputs": [
    {
     "name": "stdout",
     "output_type": "stream",
     "text": [
      "predictions : [7 2 1 0 4 1 4 9 6 9]\n",
      "answers     : [7 2 1 0 4 1 4 9 5 9]\n"
     ]
    },
    {
     "data": {
      "image/png": "[encoded data removed]",
      "text/plain": [
       "<matplotlib.figure.Figure at 0x124012828>"
      ]
     },
     "metadata": {},
     "output_type": "display_data"
    }
   ],
   "source": [
    "# 評価データから10個のサンプルを取得\n",
    "indexes = np.arange(0,10)\n",
    "# samples = x_test_normed[indexes]\n",
    "# 選んだサンプルデータをモデルに入力し、識別結果を取得\n",
    "# predicted_samples = model.predict_classes(samples)\n",
    "predicted_samples = predictions[indexes]\n",
    "# 正解データと比較\n",
    "answers = y_test[indexes]\n",
    "print('predictions :', predicted_samples)\n",
    "print('answers     :', answers)\n",
    "show_samples(x_test[indexes])"
   ]
  },
  {
   "cell_type": "code",
   "execution_count": 19,
   "metadata": {},
   "outputs": [],
   "source": [
    "# 作成したモデルを保存\n",
    "model.save('../model/simple_model.h5')"
   ]
  }
 ],
 "metadata": {
  "kernelspec": {
   "display_name": "Python 3",
   "language": "python",
   "name": "python3"
  },
  "language_info": {
   "codemirror_mode": {
    "name": "ipython",
    "version": 3
   },
   "file_extension": ".py",
   "mimetype": "text/x-python",
   "name": "python",
   "nbconvert_exporter": "python",
   "pygments_lexer": "ipython3",
   "version": "3.5.3"
  }
 },
 "nbformat": 4,
 "nbformat_minor": 2
}
